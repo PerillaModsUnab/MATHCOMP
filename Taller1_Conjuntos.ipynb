{
  "nbformat": 4,
  "nbformat_minor": 0,
  "metadata": {
    "colab": {
      "provenance": []
    },
    "kernelspec": {
      "name": "python3",
      "display_name": "Python 3"
    },
    "language_info": {
      "name": "python"
    }
  },
  "cells": [
    {
      "cell_type": "markdown",
      "source": [
        "#Teoria de Conjuntos"
      ],
      "metadata": {
        "id": "DzhItXSTc4jb"
      }
    },
    {
      "cell_type": "code",
      "source": [],
      "metadata": {
        "id": "4HAquWRBdYU_"
      },
      "execution_count": null,
      "outputs": []
    },
    {
      "cell_type": "code",
      "execution_count": null,
      "metadata": {
        "id": "KQIAlpxUcJtM"
      },
      "outputs": [],
      "source": []
    }
  ]
}